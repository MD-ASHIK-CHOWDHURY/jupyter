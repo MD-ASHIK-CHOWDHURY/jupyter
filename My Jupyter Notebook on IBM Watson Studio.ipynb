{
    "cells": [
        {
            "cell_type": "markdown",
            "metadata": {},
            "source": "# My Jupyter Notebook on IBM Watson Studio\n"
        },
        {
            "cell_type": "markdown",
            "metadata": {},
            "source": "**Ashik Chowdhury**"
        },
        {
            "cell_type": "markdown",
            "metadata": {},
            "source": "*I am interested in data science because I like to analyse data and get to a decision from it. Learning data science will enable me to get access to a vast range of data sets and analyze them from different point of views.* "
        },
        {
            "cell_type": "markdown",
            "metadata": {},
            "source": "### The following code will give output of addition of 1 + 1"
        },
        {
            "cell_type": "code",
            "execution_count": 5,
            "metadata": {},
            "outputs": [
                {
                    "name": "stdout",
                    "output_type": "stream",
                    "text": "2\n"
                }
            ],
            "source": "print(1+1)"
        },
        {
            "cell_type": "markdown",
            "metadata": {},
            "source": "<!DOCTYPE html>\n<html>\n<body>\n\n<ol>\n    <li>One</li>\n    <li>Two</li>\n    <li>Three</li>\n</ol>\n\n</body>\n</html>"
        },
        {
            "cell_type": "markdown",
            "metadata": {},
            "source": "<!DOCTYPE html>\n<html>\n<body>\n\n<ul>\n    <li>Every</li>\n    <li>Action</li>\n    <li>Matters</li>\n</ul>\n\n</body>\n</html>"
        },
        {
            "cell_type": "markdown",
            "metadata": {},
            "source": "<!DOCTYPE html>\n<html>\n<body>\n\n<p>\n<strike> This is an example of Strikethrough </strike> \n</p>\n\n</body>\n</html>"
        },
        {
            "cell_type": "code",
            "execution_count": null,
            "metadata": {},
            "outputs": [],
            "source": ""
        }
    ],
    "metadata": {
        "kernelspec": {
            "display_name": "Python 3.6",
            "language": "python",
            "name": "python3"
        },
        "language_info": {
            "codemirror_mode": {
                "name": "ipython",
                "version": 3
            },
            "file_extension": ".py",
            "mimetype": "text/x-python",
            "name": "python",
            "nbconvert_exporter": "python",
            "pygments_lexer": "ipython3",
            "version": "3.6.9"
        }
    },
    "nbformat": 4,
    "nbformat_minor": 1
}